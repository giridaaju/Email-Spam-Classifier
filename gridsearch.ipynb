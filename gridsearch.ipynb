{
 "cells": [
  {
   "cell_type": "code",
   "execution_count": 3,
   "metadata": {},
   "outputs": [],
   "source": [
    "from sklearn.model_selection import GridSearchCV\n",
    "from sklearn.pipeline import Pipeline\n",
    "from sklearn.svm import SVC\n",
    "from sklearn.impute import SimpleImputer\n",
    "from sklearn.preprocessing import StandardScaler\n",
    "import numpy as np"
   ]
  },
  {
   "cell_type": "code",
   "execution_count": 4,
   "metadata": {},
   "outputs": [],
   "source": [
    "pipe = Pipeline(steps=[('scaler', StandardScaler()), ('imputer', SimpleImputer(missing_values=-1, strategy='median')), \n",
    "                    ('svm', SVC(kernel='rbf', probability=True))])\n",
    "param_grid = {\n",
    "    \"svm__C\": [0.25, 0.5, 1, 2.5, 5, 10],\n",
    "    \"svm__degree\": [2, 3, 5, 7],\n",
    "    \"svm__gamma\": ['scale', 'auto', 1, 3, 5]\n",
    "}\n",
    "search = GridSearchCV(pipe, param_grid, n_jobs=-1)\n"
   ]
  },
  {
   "cell_type": "code",
   "execution_count": 5,
   "metadata": {},
   "outputs": [],
   "source": [
    "data = np.loadtxt('C:/Users/anebe/VSCode Projects/CSDS_340/Case Study 1/data/spamTrain1.csv', delimiter=',')\n",
    "shuffleIndex = np.arange(np.shape(data)[0])\n",
    "np.random.shuffle(shuffleIndex)\n",
    "data = data[shuffleIndex,:]\n",
    "features = data[:,:-1]\n",
    "labels = data[:,-1]"
   ]
  },
  {
   "cell_type": "code",
   "execution_count": 6,
   "metadata": {},
   "outputs": [
    {
     "name": "stdout",
     "output_type": "stream",
     "text": [
      "Best parameter (CV score=0.586):\n",
      "{'svm__C': 0.25, 'svm__degree': 2, 'svm__gamma': 'scale'}\n"
     ]
    }
   ],
   "source": [
    "search.fit(features, labels)\n",
    "print(\"Best parameter (CV score=%0.3f):\" % search.best_score_)\n",
    "print(search.best_params_)"
   ]
  }
 ],
 "metadata": {
  "kernelspec": {
   "display_name": "cabbage",
   "language": "python",
   "name": "python3"
  },
  "language_info": {
   "codemirror_mode": {
    "name": "ipython",
    "version": 3
   },
   "file_extension": ".py",
   "mimetype": "text/x-python",
   "name": "python",
   "nbconvert_exporter": "python",
   "pygments_lexer": "ipython3",
   "version": "3.11.4"
  }
 },
 "nbformat": 4,
 "nbformat_minor": 2
}
